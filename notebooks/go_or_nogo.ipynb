{
 "cells": [
  {
   "cell_type": "code",
   "execution_count": 49,
   "metadata": {},
   "outputs": [],
   "source": [
    "from astropy.table import Table, Column\n",
    "import matplotlib.pyplot as plt\n",
    "from astropy.io import ascii\n",
    "%matplotlib inline\n",
    "from glob import glob\n",
    "import numpy as np\n",
    "from astropy.time import Time"
   ]
  },
  {
   "cell_type": "code",
   "execution_count": 4,
   "metadata": {},
   "outputs": [
    {
     "data": {
      "text/html": [
       "<i>Table length=16</i>\n",
       "<table id=\"table140687128024880\" class=\"table-striped table-bordered table-condensed\">\n",
       "<thead><tr><th>Distance</th><th>costheta</th><th>area90</th></tr></thead>\n",
       "<thead><tr><th>float64</th><th>float64</th><th>float64</th></tr></thead>\n",
       "<tr><td>100.289</td><td>0.327</td><td>35.886</td></tr>\n",
       "<tr><td>343.493</td><td>0.896</td><td>184.054</td></tr>\n",
       "<tr><td>134.19</td><td>0.457</td><td>17015.839</td></tr>\n",
       "<tr><td>126.846</td><td>0.714</td><td>15851.949</td></tr>\n",
       "<tr><td>221.296</td><td>0.991</td><td>81.182</td></tr>\n",
       "<tr><td>269.085</td><td>0.99</td><td>31.972</td></tr>\n",
       "<tr><td>148.68</td><td>0.698</td><td>385.039</td></tr>\n",
       "<tr><td>162.965</td><td>0.956</td><td>16.14</td></tr>\n",
       "<tr><td>338.154</td><td>0.854</td><td>1225.579</td></tr>\n",
       "<tr><td>115.767</td><td>0.998</td><td>66.107</td></tr>\n",
       "<tr><td>417.036</td><td>0.893</td><td>177.379</td></tr>\n",
       "<tr><td>205.401</td><td>0.696</td><td>981.397</td></tr>\n",
       "<tr><td>267.225</td><td>0.807</td><td>1342.503</td></tr>\n",
       "<tr><td>216.827</td><td>0.696</td><td>54.99</td></tr>\n",
       "<tr><td>210.862</td><td>0.918</td><td>117.304</td></tr>\n",
       "<tr><td>264.142</td><td>0.376</td><td>1181.463</td></tr>\n",
       "</table>"
      ],
      "text/plain": [
       "<Table length=16>\n",
       "Distance costheta   area90 \n",
       "float64  float64   float64 \n",
       "-------- -------- ---------\n",
       " 100.289    0.327    35.886\n",
       " 343.493    0.896   184.054\n",
       "  134.19    0.457 17015.839\n",
       " 126.846    0.714 15851.949\n",
       " 221.296    0.991    81.182\n",
       " 269.085     0.99    31.972\n",
       "  148.68    0.698   385.039\n",
       " 162.965    0.956     16.14\n",
       " 338.154    0.854  1225.579\n",
       " 115.767    0.998    66.107\n",
       " 417.036    0.893   177.379\n",
       " 205.401    0.696   981.397\n",
       " 267.225    0.807  1342.503\n",
       " 216.827    0.696     54.99\n",
       " 210.862    0.918   117.304\n",
       " 264.142    0.376  1181.463"
      ]
     },
     "execution_count": 4,
     "metadata": {},
     "output_type": "execute_result"
    }
   ],
   "source": [
    "res = Table.read('realistic_simulations_stats.csv')\n",
    "res"
   ]
  },
  {
   "cell_type": "code",
   "execution_count": 31,
   "metadata": {},
   "outputs": [],
   "source": [
    "ls = glob('/Users/viraj/winter/gwemopt_sims/output_parallel/realistic_isPE1_isGal0_*')\n",
    "sched = Table.read(ls[2])\n",
    "distances = sched['distance']\n",
    "uniq_distances, inds = np.unique(distances,return_index=True)\n",
    "sched = sched[inds]"
   ]
  },
  {
   "cell_type": "code",
   "execution_count": 23,
   "metadata": {},
   "outputs": [],
   "source": [
    "real = ascii.read('/Users/viraj/winter/injection_data/bns_samples_realistic.dat')\n",
    "t = Time(real['geocent_time'],scale='tcg',format='gps')"
   ]
  },
  {
   "cell_type": "code",
   "execution_count": 34,
   "metadata": {},
   "outputs": [],
   "source": [
    "det_ligo = real[np.array(sched['event'],dtype=int)]\n",
    "times = Time(det_ligo['geocent_time'],scale='tcg',format='gps')"
   ]
  },
  {
   "cell_type": "code",
   "execution_count": 36,
   "metadata": {},
   "outputs": [
    {
     "data": {
      "text/plain": [
       "array(['2022-10-02T05:18:26.900', '2022-08-05T01:40:15.990',\n",
       "       '2022-04-21T09:35:41.915', '2022-03-11T03:32:03.037',\n",
       "       '2022-04-12T02:07:03.389', '2022-07-26T09:43:21.757',\n",
       "       '2022-10-04T06:12:57.653', '2022-04-11T01:13:17.907',\n",
       "       '2022-03-22T09:48:22.062', '2022-03-23T14:08:35.806',\n",
       "       '2022-10-03T12:35:28.226', '2022-08-05T11:51:03.463',\n",
       "       '2022-11-25T05:35:03.697', '2022-10-03T04:33:53.393',\n",
       "       '2022-10-07T03:26:54.028', '2022-09-06T08:40:44.175'], dtype='<U23')"
      ]
     },
     "execution_count": 36,
     "metadata": {},
     "output_type": "execute_result"
    }
   ],
   "source": [
    "times.isot"
   ]
  },
  {
   "cell_type": "code",
   "execution_count": 52,
   "metadata": {},
   "outputs": [],
   "source": [
    "new_tab = Table()\n",
    "new_tab.add_columns([sched['event'],sched['distance'],sched['ra'],sched['dec'],sched['area90']])\n",
    "new_tab.add_column(Column(name='trigger_time',data=times.isot))"
   ]
  },
  {
   "cell_type": "code",
   "execution_count": 54,
   "metadata": {},
   "outputs": [],
   "source": [
    "new_tab.write('realistic_triggers_stats.csv')"
   ]
  },
  {
   "cell_type": "code",
   "execution_count": 55,
   "metadata": {},
   "outputs": [
    {
     "data": {
      "text/html": [
       "<i>Table length=16</i>\n",
       "<table id=\"table140687163186432\" class=\"table-striped table-bordered table-condensed\">\n",
       "<thead><tr><th>event</th><th>distance</th><th>ra</th><th>dec</th><th>area90</th><th>trigger_time</th></tr></thead>\n",
       "<thead><tr><th>float64</th><th>float64</th><th>float64</th><th>float64</th><th>float64</th><th>str23</th></tr></thead>\n",
       "<tr><td>10.0</td><td>100.28942703308223</td><td>348.17789153309644</td><td>42.5066297424796</td><td>35.886360314380596</td><td>2022-10-02T05:18:26.900</td></tr>\n",
       "<tr><td>24.0</td><td>115.76661933630648</td><td>197.6698591108632</td><td>19.09047308500463</td><td>66.10748852358581</td><td>2022-08-05T01:40:15.990</td></tr>\n",
       "<tr><td>86.0</td><td>126.84621080953005</td><td>357.6013757396963</td><td>-1.0086737561548882</td><td>15851.94890051461</td><td>2022-04-21T09:35:41.915</td></tr>\n",
       "<tr><td>8.0</td><td>134.19015405873307</td><td>27.86841588760251</td><td>47.82261884037917</td><td>17015.839363011197</td><td>2022-03-11T03:32:03.037</td></tr>\n",
       "<tr><td>14.0</td><td>148.6795736273486</td><td>351.47544620751717</td><td>-8.18531225987771</td><td>385.0390737038292</td><td>2022-04-12T02:07:03.389</td></tr>\n",
       "<tr><td>180.0</td><td>162.96513250175389</td><td>255.7365652392762</td><td>47.61818433302595</td><td>16.14001021630693</td><td>2022-07-26T09:43:21.757</td></tr>\n",
       "<tr><td>191.0</td><td>205.4005932952305</td><td>71.50741539718905</td><td>82.90961229089666</td><td>981.3965505159823</td><td>2022-10-04T06:12:57.653</td></tr>\n",
       "<tr><td>12.0</td><td>210.86171809205854</td><td>257.98613485210683</td><td>-11.666370509056316</td><td>117.304400881467</td><td>2022-04-11T01:13:17.907</td></tr>\n",
       "<tr><td>181.0</td><td>216.8265690149866</td><td>150.18981296631182</td><td>-0.5002496878613357</td><td>54.99012621533946</td><td>2022-03-22T09:48:22.062</td></tr>\n",
       "<tr><td>22.0</td><td>221.29599478720382</td><td>43.21801145994791</td><td>20.416884093730246</td><td>81.18198922937074</td><td>2022-03-23T14:08:35.806</td></tr>\n",
       "<tr><td>188.0</td><td>264.14160231900587</td><td>145.4237275121413</td><td>63.5975966431269</td><td>1181.4631731931945</td><td>2022-10-03T12:35:28.226</td></tr>\n",
       "<tr><td>0.0</td><td>267.2252769416377</td><td>118.66588103660942</td><td>-68.39401906447827</td><td>1342.5026413680866</td><td>2022-08-05T11:51:03.463</td></tr>\n",
       "<tr><td>171.0</td><td>269.08517617009744</td><td>350.9885293466172</td><td>-8.244782864521877</td><td>31.97184229726289</td><td>2022-11-25T05:35:03.697</td></tr>\n",
       "<tr><td>60.0</td><td>338.1538562978532</td><td>299.5173729426362</td><td>9.212227417954136</td><td>1225.5785454196064</td><td>2022-10-03T04:33:53.393</td></tr>\n",
       "<tr><td>6.0</td><td>343.4934256409743</td><td>129.84030712000435</td><td>-42.923045037686094</td><td>184.05447360216758</td><td>2022-10-07T03:26:54.028</td></tr>\n",
       "<tr><td>107.0</td><td>417.03606014880205</td><td>19.66028482927023</td><td>25.118505696998906</td><td>177.37946633009753</td><td>2022-09-06T08:40:44.175</td></tr>\n",
       "</table>"
      ],
      "text/plain": [
       "<Table length=16>\n",
       " event       distance      ...       area90             trigger_time     \n",
       "float64      float64       ...      float64                str23         \n",
       "------- ------------------ ... ------------------ -----------------------\n",
       "   10.0 100.28942703308223 ... 35.886360314380596 2022-10-02T05:18:26.900\n",
       "   24.0 115.76661933630648 ...  66.10748852358581 2022-08-05T01:40:15.990\n",
       "   86.0 126.84621080953005 ...  15851.94890051461 2022-04-21T09:35:41.915\n",
       "    8.0 134.19015405873307 ... 17015.839363011197 2022-03-11T03:32:03.037\n",
       "   14.0  148.6795736273486 ...  385.0390737038292 2022-04-12T02:07:03.389\n",
       "  180.0 162.96513250175389 ...  16.14001021630693 2022-07-26T09:43:21.757\n",
       "  191.0  205.4005932952305 ...  981.3965505159823 2022-10-04T06:12:57.653\n",
       "   12.0 210.86171809205854 ...   117.304400881467 2022-04-11T01:13:17.907\n",
       "  181.0  216.8265690149866 ...  54.99012621533946 2022-03-22T09:48:22.062\n",
       "   22.0 221.29599478720382 ...  81.18198922937074 2022-03-23T14:08:35.806\n",
       "  188.0 264.14160231900587 ... 1181.4631731931945 2022-10-03T12:35:28.226\n",
       "    0.0  267.2252769416377 ... 1342.5026413680866 2022-08-05T11:51:03.463\n",
       "  171.0 269.08517617009744 ...  31.97184229726289 2022-11-25T05:35:03.697\n",
       "   60.0  338.1538562978532 ... 1225.5785454196064 2022-10-03T04:33:53.393\n",
       "    6.0  343.4934256409743 ... 184.05447360216758 2022-10-07T03:26:54.028\n",
       "  107.0 417.03606014880205 ... 177.37946633009753 2022-09-06T08:40:44.175"
      ]
     },
     "execution_count": 55,
     "metadata": {},
     "output_type": "execute_result"
    }
   ],
   "source": [
    "new_tab"
   ]
  },
  {
   "cell_type": "code",
   "execution_count": null,
   "metadata": {},
   "outputs": [],
   "source": []
  }
 ],
 "metadata": {
  "kernelspec": {
   "display_name": "Python 3",
   "language": "python",
   "name": "python3"
  },
  "language_info": {
   "codemirror_mode": {
    "name": "ipython",
    "version": 3
   },
   "file_extension": ".py",
   "mimetype": "text/x-python",
   "name": "python",
   "nbconvert_exporter": "python",
   "pygments_lexer": "ipython3",
   "version": "3.8.5"
  }
 },
 "nbformat": 4,
 "nbformat_minor": 4
}
