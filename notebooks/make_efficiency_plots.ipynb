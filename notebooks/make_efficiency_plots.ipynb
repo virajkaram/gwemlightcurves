{
 "cells": [
  {
   "cell_type": "code",
   "execution_count": 10,
   "metadata": {},
   "outputs": [],
   "source": [
    "from astropy.io import ascii\n",
    "import pickle\n",
    "import numpy as np\n",
    "import matplotlib.pyplot as plt\n",
    "import matplotlib\n",
    "%matplotlib inline\n",
    "from matplotlib.gridspec import GridSpec\n",
    "from astropy.table import vstack\n",
    "from glob import glob\n",
    "from astropy.table import Table\n",
    "import pickle\n",
    "import numpy as np\n",
    "from astropy.coordinates import SkyCoord\n",
    "import astropy.units as u\n",
    "from matplotlib import colors\n",
    "import matplotlib.patches as mpatches\n",
    "\n",
    "\n",
    "def init():\n",
    "    matplotlib.rcParams['xtick.minor.size'] = 6\n",
    "    matplotlib.rcParams['xtick.major.size'] = 6\n",
    "    matplotlib.rcParams['ytick.major.size'] = 6\n",
    "    matplotlib.rcParams['ytick.minor.size'] = 6\n",
    "    matplotlib.rcParams['lines.linewidth'] = 1.5\n",
    "    matplotlib.rcParams['axes.linewidth'] = 1.5\n",
    "    matplotlib.rcParams['font.size']= 16\n",
    "    matplotlib.rcParams['font.family']= 'sans-serif'\n",
    "    matplotlib.rcParams['xtick.major.width']= 2.\n",
    "    matplotlib.rcParams['ytick.major.width']= 2.\n",
    "    matplotlib.rcParams['ytick.direction']='in'\n",
    "    matplotlib.rcParams['xtick.direction']='in'\n",
    "\n",
    "init()"
   ]
  },
  {
   "cell_type": "code",
   "execution_count": 2,
   "metadata": {},
   "outputs": [
    {
     "name": "stdout",
     "output_type": "stream",
     "text": [
      "Install gpytorch if you want to use it...\n"
     ]
    }
   ],
   "source": [
    "filt = 'r'\n",
    "with open('output/bns_Bulla_parameter_grid_Andreoni_theta_simulations_%sband.dat'%(filt),'rb') as f:\n",
    "    r = pickle.load(f)\n",
    "    \n",
    "filt = 'J'    \n",
    "with open('output/bns_Bulla_parameter_grid_Andreoni_theta_simulations_%sband.dat'%(filt),'rb') as f:\n",
    "    J = pickle.load(f)"
   ]
  },
  {
   "cell_type": "code",
   "execution_count": 6,
   "metadata": {},
   "outputs": [],
   "source": [
    "r = r.group_by('theta')\n",
    "J = J.group_by('theta')"
   ]
  },
  {
   "cell_type": "code",
   "execution_count": 11,
   "metadata": {},
   "outputs": [
    {
     "data": {
      "text/plain": [
       "Text(0, 0.5, 'Area90')"
      ]
     },
     "execution_count": 11,
     "metadata": {},
     "output_type": "execute_result"
    },
    {
     "data": {
      "image/png": "[encoded data removed]",
      "text/plain": [
       "<Figure size 432x288 with 1 Axes>"
      ]
     },
     "metadata": {
      "needs_background": "light"
     },
     "output_type": "display_data"
    }
   ],
   "source": [
    "ls = glob('/Users/viraj/winter/gwemopt_sims/output_parallel/*.csv')\n",
    "A90 = []\n",
    "pethetas = []\n",
    "peA90 = []\n",
    "thetas = []\n",
    "distances = []\n",
    "pe_distances = []\n",
    "\n",
    "for l in ls:\n",
    "    rate = l.split('/')[-1].split('_')[0]\n",
    "    isGal = int(l.split('/')[-1].split('_')[2].split('isGal')[-1])\n",
    "    if isGal==1:\n",
    "        #with open('/Users/viraj/gwemlightcurves/output/bns_samples_%s_catalog_Jband.pickle'%(rate),'rb') as f:\n",
    "        #    dat = pickle.load(f)\n",
    "        continue\n",
    "        #dat = Table.read('/Users/viraj/gwemlightcurves/output/bns_samples_%s_catalog_ejecta_masses.dat'%(rate),format='ascii')\n",
    "        \n",
    "    else:\n",
    "        with open('/Users/viraj/gwemlightcurves/output/bns_samples_%s_Jband.pickle'%(rate),'rb') as f:\n",
    "            dat = pickle.load(f)\n",
    "        #dat = Table.read('/Users/viraj/gwemlightcurves/output/bns_samples_%s_ejecta_masses.dat'%(rate),format='ascii')\n",
    "            \n",
    "    lccrds = SkyCoord(ra=dat['ra'],dec=dat['dec'],unit=(u.radian,u.radian))\n",
    "    \n",
    "    isPe = int(l.split('/')[-1].split('_')[1].split('isPE')[-1])\n",
    "    \n",
    "    t = Table.read(l)\n",
    "    crds = SkyCoord(ra=t['ra'],dec=t['dec'],unit=(u.deg,u.deg))\n",
    "    idx,d2d,d3d = crds.match_to_catalog_sky(lccrds)\n",
    "    dat = dat[idx]\n",
    "    #print(d2d)\n",
    "    if isPe==1:\n",
    "        \n",
    "        for ind in range(len(t)):\n",
    "            pethetas.append(dat[ind]['theta_jn'])\n",
    "            peA90.append(t[ind]['area90'])\n",
    "            if t[ind]['area90'] ==0:\n",
    "                print(t[ind]['distance'])\n",
    "            pe_distances.append(t[ind]['distance'])\n",
    "        \n",
    "    else:\n",
    "        for ind in range(len(t)):\n",
    "            thetas.append(dat[ind]['theta_jn'])\n",
    "            A90.append(t[ind]['area90'])\n",
    "            distances.append(t[ind]['distance'])        \n",
    "A90 = np.array(A90)\n",
    "peA90 = np.array(peA90)\n",
    "thetas = np.array(thetas)\n",
    "pethetas = np.array(pethetas)\n",
    "\n",
    "plt.plot(np.abs(np.cos(thetas)),A90,'.',c='blue',label='pycbc')\n",
    "plt.plot(np.abs(np.cos(thetas)),A90,'.',c='blue')\n",
    "\n",
    "plt.plot(np.abs(np.cos(pethetas)),peA90,'x',c='red',label='PE')\n",
    "plt.plot(np.abs(np.cos(pethetas)),peA90,'x',c='red')\n",
    "\n",
    "\n",
    "\n",
    "plt.yscale('log')\n",
    "plt.legend(fontsize=10)\n",
    "plt.xlabel(r'cos($\\theta_{jn}$)')\n",
    "plt.ylabel(r'Area90')\n",
    "#plt.savefig(r'theta_A90_1.pdf',bbox_inches='tight')"
   ]
  },
  {
   "cell_type": "code",
   "execution_count": 30,
   "metadata": {},
   "outputs": [],
   "source": [
    "thetas = np.arccos(np.abs(np.cos(np.array(thetas))))\n",
    "distances = np.array(distances)\n",
    "sortinds = np.argsort(thetas)\n",
    "distances = distances[sortinds]\n",
    "thetas = thetas[sortinds]\n",
    "uniq_thetas, uniqinds = np.unique(thetas,return_index=True)\n",
    "uniq_distances = distances[uniqinds]"
   ]
  },
  {
   "cell_type": "code",
   "execution_count": 31,
   "metadata": {},
   "outputs": [
    {
     "data": {
      "text/plain": [
       "[<matplotlib.lines.Line2D at 0x7f9d6f7635b0>]"
      ]
     },
     "execution_count": 31,
     "metadata": {},
     "output_type": "execute_result"
    },
    {
     "data": {
      "image/png": "[encoded data removed]",
      "text/plain": [
       "<Figure size 432x288 with 1 Axes>"
      ]
     },
     "metadata": {
      "needs_background": "light"
     },
     "output_type": "display_data"
    }
   ],
   "source": [
    "plt.plot(np.abs(np.cos(uniq_thetas)),uniq_distances,'.')"
   ]
  },
  {
   "cell_type": "code",
   "execution_count": 87,
   "metadata": {},
   "outputs": [],
   "source": [
    "def is_detection(tts,mags,limmag,search_time_days):\n",
    "    bright_inds = mags<limmag\n",
    "    if len(tts[bright_inds]) ==0:\n",
    "        return 0\n",
    "    \n",
    "    t_brights = tts[bright_inds]\n",
    "    \n",
    "    t_bright_max = np.max(t_brights)\n",
    "    \n",
    "    #print(t_bright_max)\n",
    "    if t_bright_max >= search_time_days:\n",
    "        return 1\n",
    "    else:\n",
    "        return 0"
   ]
  },
  {
   "cell_type": "code",
   "execution_count": 200,
   "metadata": {},
   "outputs": [],
   "source": [
    "def calc_fdets(limmags,search_time_days):\n",
    "    fdets = {}\n",
    "    fdets['J'], fdets['r'] = {}, {}\n",
    "    fdets['J']['30'], fdets['J']['60'] = [], []\n",
    "    fdets['r']['30'], fdets['r']['60'] = [], []\n",
    "\n",
    "    ls = glob('/Users/viraj/winter/gwemopt_sims/output_parallel/*.csv')\n",
    "    for ind in range(len(J.groups)):\n",
    "        Jg = J.groups[ind]\n",
    "        rg = r.groups[ind]\n",
    "    \n",
    "        Jg = Jg.group_by('phi')\n",
    "        rg = rg.group_by('phi')\n",
    "    \n",
    "    \n",
    "        dist = uniq_distances[ind]\n",
    "        DM = 5*np.log10(dist*1e5)\n",
    "    \n",
    "        for phi_ind in range(len(Jg.groups)):\n",
    "            Jgphi = Jg.groups[phi_ind]\n",
    "            rgphi = rg.groups[phi_ind]\n",
    "            phi = Jgphi['phi'][0]\n",
    "            nJdets = 0\n",
    "            nrdets = 0\n",
    "            for row_ind in range(len(Jgphi)):\n",
    "                app_mags_J = Jgphi[row_ind]['mag'][0]+DM\n",
    "                app_mags_r = rgphi[row_ind]['mag'][0]+DM\n",
    "                ts = Jgphi[row_ind]['t']\n",
    "                Jdet = is_detection(ts,app_mags_J,limmags,search_time_days)\n",
    "                rdet = is_detection(ts,app_mags_r,limmags,search_time_days)\n",
    "            \n",
    "                if Jdet==1:\n",
    "                    nJdets+= 1\n",
    "                if rdet==1:\n",
    "                    nrdets+= 1\n",
    "            fdets['J']['%i'%(phi)].append(nJdets/len(Jgphi))\n",
    "            fdets['r']['%i'%(phi)].append(nrdets/len(rgphi))\n",
    "    fdets['J']['30'] = np.array(fdets['J']['30'])\n",
    "    fdets['r']['30'] = np.array(fdets['r']['30'])\n",
    "    fdets['J']['60'] = np.array(fdets['J']['60'])\n",
    "    fdets['r']['60'] = np.array(fdets['r']['60'])\n",
    "\n",
    "        #print(phi,nJdets,nrdets,len(Jgphi))\n",
    "    return fdets    \n",
    "        \n",
    "    \n",
    "    #print(Jg['mag'][0][0]+DM)\n",
    "    \n",
    "    #print('theta : ',Jg[0]['theta'],rg[0]['theta'],uniq_thetas[ind]*180/np.pi,uniq_distances[ind],DM)"
   ]
  },
  {
   "cell_type": "code",
   "execution_count": 186,
   "metadata": {},
   "outputs": [
    {
     "data": {
      "text/plain": [
       "[<matplotlib.lines.Line2D at 0x7f9d750c1b80>]"
      ]
     },
     "execution_count": 186,
     "metadata": {},
     "output_type": "execute_result"
    },
    {
     "data": {
      "image/png": "[encoded data removed]",
      "text/plain": [
       "<Figure size 432x288 with 1 Axes>"
      ]
     },
     "metadata": {
      "needs_background": "light"
     },
     "output_type": "display_data"
    }
   ],
   "source": [
    "#plt.plot(uniq_thetas,fdets['J']['30'],'.')\n",
    "plt.plot(uniq_thetas,fdets['J']['60'],'.')\n",
    "#plt.plot(uniq_thetas,fdets['r']['30'],'.')\n",
    "plt.plot(uniq_thetas,fdets['r']['60'],'.')"
   ]
  },
  {
   "cell_type": "code",
   "execution_count": 195,
   "metadata": {},
   "outputs": [],
   "source": [
    "def binned_fdets(fdets):\n",
    "    plot_bins = np.array([0,0.25,0.5,0.75,1])\n",
    "    bins = np.array([0,0.2,0.4,0.6,0.8,1])\n",
    "    b_inds = np.digitize(np.abs(np.cos(uniq_thetas)),bins)\n",
    "\n",
    "    bin_dists = []\n",
    "    b_fdets = {}\n",
    "    b_fdets['J'], b_fdets['r'] = {}, {}\n",
    "    b_fdets['J']['30'], b_fdets['J']['60'] = [], []\n",
    "    b_fdets['r']['30'], b_fdets['r']['60'] = [], []\n",
    "    b_distances = []\n",
    "\n",
    "    for filt in ['r','J']:\n",
    "        for phi in ['30','60']:\n",
    "            b_distances = []\n",
    "            b_n_ligos = []\n",
    "            for i in range(1,6):\n",
    "                b_distances.append(np.mean(uniq_distances[np.where(b_inds==i)[0]]))\n",
    "                b_n_ligos.append(len(uniq_distances[np.where(b_inds==i)[0]]))\n",
    "                b_fdets[filt][phi].append(np.median(fdets[filt][phi][np.where(b_inds==i)[0]]))\n",
    "                #ntot.append(len(distances[np.where(inds==i)[0]]))\n",
    "\n",
    "    b_distances = np.array(b_distances)\n",
    "    b_n_ligos = np.array(b_n_ligos)/np.sum(b_n_ligos)\n",
    "    return b_n_ligos, b_fdets, b_distances"
   ]
  },
  {
   "cell_type": "code",
   "execution_count": 193,
   "metadata": {},
   "outputs": [
    {
     "data": {
      "text/plain": [
       "(array([126.61577208, 146.78064362, 173.85512283, 174.31577689,\n",
       "        234.52392801]),\n",
       " array([0.01851852, 0.14814815, 0.11111111, 0.22222222, 0.5       ]))"
      ]
     },
     "execution_count": 193,
     "metadata": {},
     "output_type": "execute_result"
    }
   ],
   "source": [
    "b_distances,b_n_ligos"
   ]
  },
  {
   "cell_type": "code",
   "execution_count": 194,
   "metadata": {},
   "outputs": [
    {
     "data": {
      "text/plain": [
       "[<matplotlib.lines.Line2D at 0x7f9d73791b20>]"
      ]
     },
     "execution_count": 194,
     "metadata": {},
     "output_type": "execute_result"
    },
    {
     "data": {
      "image/png": "[encoded data removed]",
      "text/plain": [
       "<Figure size 432x288 with 1 Axes>"
      ]
     },
     "metadata": {
      "needs_background": "light"
     },
     "output_type": "display_data"
    },
    {
     "data": {
      "image/png": "[encoded data removed]",
      "text/plain": [
       "<Figure size 432x288 with 1 Axes>"
      ]
     },
     "metadata": {
      "needs_background": "light"
     },
     "output_type": "display_data"
    }
   ],
   "source": [
    "plt.figure()\n",
    "plt.plot(plot_bins,b_fdets['J']['30'],'.')\n",
    "plt.plot(plot_bins,b_fdets['r']['30'],'.')\n",
    "\n",
    "plt.figure()\n",
    "plt.plot(plot_bins,b_fdets['J']['60'],'.')\n",
    "plt.plot(plot_bins,b_fdets['r']['60'],'.')"
   ]
  },
  {
   "cell_type": "code",
   "execution_count": 242,
   "metadata": {
    "scrolled": false
   },
   "outputs": [
    {
     "name": "stdout",
     "output_type": "stream",
     "text": [
      "[0.01518519 0.13185185 0.09888889 0.19555556 0.415     ]\n",
      "[0.01759259 0.13925926 0.09833333 0.19222222 0.41      ]\n",
      "[0.01666667 0.1437037  0.10666667 0.21333333 0.455     ]\n",
      "[0.01851852 0.14666667 0.10611111 0.20888889 0.44      ]\n"
     ]
    },
    {
     "data": {
      "text/plain": [
       "Text(0.5, 0, 'cos($\\\\theta$)')"
      ]
     },
     "execution_count": 242,
     "metadata": {},
     "output_type": "execute_result"
    },
    {
     "data": {
      "image/png": "[encoded data removed]",
      "text/plain": [
       "<Figure size 1152x360 with 2 Axes>"
      ]
     },
     "metadata": {
      "needs_background": "light"
     },
     "output_type": "display_data"
    }
   ],
   "source": [
    "fig = plt.figure(figsize=(16,5))\n",
    "gs = GridSpec(1,2)\n",
    "ax1 = fig.add_subplot(gs[0])\n",
    "fdets = calc_fdets(22,4)\n",
    "b_n_ligos, b_fdets, b_distances = binned_fdets(fdets)\n",
    "print(b_n_ligos*b_fdets['J']['30'])\n",
    "ax1.plot(plot_bins,b_n_ligos*b_fdets['J']['30'],'.',linestyle='-',c='blue')\n",
    "ax1.plot(plot_bins,b_n_ligos*b_fdets['r']['30'],'.',linestyle='--',c='blue')\n",
    "\n",
    "fdets = calc_fdets(22,4)\n",
    "b_n_ligos, b_fdets, b_distances = binned_fdets(fdets)\n",
    "print(b_n_ligos*b_fdets['J']['60'])\n",
    "ax1.plot(plot_bins,b_n_ligos*b_fdets['J']['60'],'.',linestyle='-',c='red')\n",
    "ax1.plot(plot_bins,b_n_ligos*b_fdets['r']['60'],'.',linestyle='--',c='red')\n",
    "ax1.set_xlabel(r'cos($\\theta$)')\n",
    "\n",
    "ax2 = fig.add_subplot(gs[1])\n",
    "#plt.figure()\n",
    "fdets = calc_fdets(21,1)\n",
    "b_n_ligos, b_fdets, b_distances = binned_fdets(fdets)\n",
    "print(b_n_ligos*b_fdets['J']['30'])\n",
    "ax2.plot(plot_bins,b_n_ligos*b_fdets['J']['30'],linestyle='-',c='blue')\n",
    "ax2.plot(plot_bins,b_n_ligos*b_fdets['r']['30'],linestyle='--',c='blue')\n",
    "\n",
    "\n",
    "fdets = calc_fdets(21,1)\n",
    "b_n_ligos, b_fdets, b_distances = binned_fdets(fdets)\n",
    "print(b_n_ligos*b_fdets['J']['60'])\n",
    "ax2.plot(plot_bins,b_n_ligos*b_fdets['J']['60'],'.',linestyle='-',c='red')\n",
    "ax2.plot(plot_bins,b_n_ligos*b_fdets['r']['60'],'.',linestyle='--',c='red')\n",
    "ax2.set_xlabel(r'cos($\\theta$)')"
   ]
  },
  {
   "cell_type": "code",
   "execution_count": 44,
   "metadata": {},
   "outputs": [],
   "source": [
    "fdets = []\n",
    "\n",
    "ls = glob('/Users/viraj/winter/gwemopt_sims/output_parallel/*.csv')\n",
    "for ind in range(len(J.groups)):\n",
    "for l in ls:\n",
    "    rate = l.split('/')[-1].split('_')[0]\n",
    "    isGal = int(l.split('/')[-1].split('_')[2].split('isGal')[-1])\n",
    "    if isGal==1:\n",
    "        #with open('/Users/viraj/gwemlightcurves/output/bns_samples_%s_catalog_Jband.pickle'%(rate),'rb') as f:\n",
    "        #    dat = pickle.load(f)\n",
    "        continue\n",
    "        #dat = Table.read('/Users/viraj/gwemlightcurves/output/bns_samples_%s_catalog_ejecta_masses.dat'%(rate),format='ascii')\n",
    "\n",
    "    isPe = int(l.split('/')[-1].split('_')[1].split('isPE')[-1])\n",
    "    t = Table.read(l)\n",
    "    \n",
    "    if isPe == 1:\n",
    "        continue\n",
    "    \n",
    "    sched = Table.read(l)\n",
    "    for sc in sched:\n",
    "        print(sc['theta_jn'])\n",
    "    Jg = J.groups[ind]\n",
    "    rg = r.groups[ind]\n",
    "    \n",
    "    Jg = Jg.group_by('phi')\n",
    "    rg = rg.group_by('phi')\n",
    "    \n",
    "    \n",
    "    dist = uniq_distances[ind]\n",
    "    DM = 5*np.log10(dist*1e5)\n",
    "    \n",
    "    for phi_ind in range(len(Jg.groups)):\n",
    "        Jgphi = Jg.groups[phi_ind]\n",
    "        rgphi = rg.groups[phi_ind]\n",
    "        \n",
    "        app_mags_J = Jg['mag'][0][0]+DM\n",
    "        app_mags_r = rg['mag'][0][0]+DM\n",
    "    \n",
    "    #print(Jg['mag'][0][0]+DM)\n",
    "    \n",
    "    #print('theta : ',Jg[0]['theta'],rg[0]['theta'],uniq_thetas[ind]*180/np.pi,uniq_distances[ind],DM)"
   ]
  },
  {
   "cell_type": "code",
   "execution_count": 58,
   "metadata": {},
   "outputs": [
    {
     "data": {
      "text/html": [
       "<i>Table length=28</i>\n",
       "<table id=\"table140314137580160\" class=\"table-striped table-bordered table-condensed\">\n",
       "<thead><tr><th>col0</th><th>event</th><th>distance</th><th>ra</th><th>dec</th><th>is_localized</th><th>mag_threshold</th><th>airmass</th><th>pointings_to_detection</th><th>hours_to_detection</th><th>area90</th></tr></thead>\n",
       "<thead><tr><th>int64</th><th>float64</th><th>float64</th><th>float64</th><th>float64</th><th>float64</th><th>float64</th><th>float64</th><th>float64</th><th>float64</th><th>float64</th></tr></thead>\n",
       "<tr><td>0</td><td>76.0</td><td>123.10428318692932</td><td>132.75262</td><td>29.178780000000003</td><td>1.0</td><td>21.22011</td><td>1.57147</td><td>8.0</td><td>6.388977277597103</td><td>2021.1108954109345</td></tr>\n",
       "<tr><td>1</td><td>76.0</td><td>123.10428318692932</td><td>132.75262</td><td>29.178780000000003</td><td>1.0</td><td>22.20276</td><td>1.60705</td><td>8.0</td><td>22.319937277565867</td><td>2021.1108954109345</td></tr>\n",
       "<tr><td>0</td><td>23.0</td><td>368.613114788</td><td>236.39201400000002</td><td>-29.333000000000002</td><td>0.0</td><td>--</td><td>--</td><td>--</td><td>--</td><td>45.92509914889853</td></tr>\n",
       "<tr><td>0</td><td>93.0</td><td>191.81113657443316</td><td>6.130833333330001</td><td>14.397222222219998</td><td>0.0</td><td>--</td><td>--</td><td>--</td><td>--</td><td>393.32709845028944</td></tr>\n",
       "<tr><td>0</td><td>24.0</td><td>271.842519203</td><td>57.53854800000001</td><td>-34.754436</td><td>0.0</td><td>--</td><td>--</td><td>--</td><td>--</td><td>149.10904014784796</td></tr>\n",
       "<tr><td>0</td><td>39.0</td><td>276.694</td><td>196.383224</td><td>60.16944900000001</td><td>1.0</td><td>22.35943</td><td>1.34745</td><td>31.0</td><td>72.33192513964137</td><td>231.2581841636925</td></tr>\n",
       "<tr><td>0</td><td>37.0</td><td>275.423</td><td>222.63300000000004</td><td>27.96606</td><td>0.0</td><td>--</td><td>--</td><td>--</td><td>--</td><td>5948.598622139796</td></tr>\n",
       "<tr><td>0</td><td>11.0</td><td>41.70283772336437</td><td>151.70791666667</td><td>12.628888888889996</td><td>0.0</td><td>--</td><td>--</td><td>--</td><td>--</td><td>5.89800495208941</td></tr>\n",
       "<tr><td>0</td><td>44.0</td><td>160.39801510647445</td><td>247.4043395535</td><td>39.3704616362</td><td>0.0</td><td>--</td><td>--</td><td>--</td><td>--</td><td>261.05966555029215</td></tr>\n",
       "<tr><td>0</td><td>61.0</td><td>126.23335664597955</td><td>131.68613</td><td>2.7942700000000005</td><td>0.0</td><td>--</td><td>--</td><td>--</td><td>--</td><td>96.2564899351557</td></tr>\n",
       "<tr><td>...</td><td>...</td><td>...</td><td>...</td><td>...</td><td>...</td><td>...</td><td>...</td><td>...</td><td>...</td><td>...</td></tr>\n",
       "<tr><td>0</td><td>104.0</td><td>125.9981152570383</td><td>19.8168746683</td><td>-1.1778323456</td><td>0.0</td><td>--</td><td>--</td><td>--</td><td>--</td><td>659.3831839822292</td></tr>\n",
       "<tr><td>0</td><td>101.0</td><td>305.090152718</td><td>278.0466</td><td>-52.74860799999999</td><td>0.0</td><td>--</td><td>--</td><td>--</td><td>--</td><td>551.8486856895487</td></tr>\n",
       "<tr><td>0</td><td>51.0</td><td>59.08017639571553</td><td>334.86579166667</td><td>-64.97427777778</td><td>0.0</td><td>--</td><td>--</td><td>--</td><td>--</td><td>263.64311630195783</td></tr>\n",
       "<tr><td>0</td><td>2.0</td><td>202.24990657200001</td><td>153.33053600000002</td><td>56.06317100000001</td><td>0.0</td><td>--</td><td>--</td><td>--</td><td>--</td><td>2758.443476692151</td></tr>\n",
       "<tr><td>0</td><td>31.0</td><td>82.62056195471949</td><td>131.274</td><td>0.29136999999999996</td><td>1.0</td><td>22.88426</td><td>1.2051</td><td>43.0</td><td>151.33527221430663</td><td>60.219319043901216</td></tr>\n",
       "<tr><td>0</td><td>22.0</td><td>200.475096996</td><td>1.954684</td><td>-31.178032000000005</td><td>0.0</td><td>--</td><td>--</td><td>--</td><td>--</td><td>100.26936267632158</td></tr>\n",
       "<tr><td>0</td><td>55.0</td><td>162.8366365865646</td><td>346.0052332614499</td><td>3.2552730231299996</td><td>0.0</td><td>--</td><td>--</td><td>--</td><td>--</td><td>169.7209118175456</td></tr>\n",
       "<tr><td>0</td><td>102.0</td><td>41.868930852041224</td><td>143.9572083333301</td><td>-62.00683333332999</td><td>0.0</td><td>--</td><td>--</td><td>--</td><td>--</td><td>241.56248075314053</td></tr>\n",
       "<tr><td>0</td><td>52.0</td><td>133.22449072443942</td><td>152.77316666667</td><td>-17.19452777778</td><td>0.0</td><td>--</td><td>--</td><td>--</td><td>--</td><td>393.87788490495933</td></tr>\n",
       "<tr><td>0</td><td>46.0</td><td>25.37206534435893</td><td>10.181375</td><td>-63.44186111110999</td><td>0.0</td><td>--</td><td>--</td><td>--</td><td>--</td><td>6.258638940266082</td></tr>\n",
       "</table>"
      ],
      "text/plain": [
       "<Table length=28>\n",
       " col0  event       distance      ... hours_to_detection       area90      \n",
       "int64 float64      float64       ...      float64            float64      \n",
       "----- ------- ------------------ ... ------------------ ------------------\n",
       "    0    76.0 123.10428318692932 ...  6.388977277597103 2021.1108954109345\n",
       "    1    76.0 123.10428318692932 ... 22.319937277565867 2021.1108954109345\n",
       "    0    23.0      368.613114788 ...                 --  45.92509914889853\n",
       "    0    93.0 191.81113657443316 ...                 -- 393.32709845028944\n",
       "    0    24.0      271.842519203 ...                 -- 149.10904014784796\n",
       "    0    39.0            276.694 ...  72.33192513964137  231.2581841636925\n",
       "    0    37.0            275.423 ...                 --  5948.598622139796\n",
       "    0    11.0  41.70283772336437 ...                 --   5.89800495208941\n",
       "    0    44.0 160.39801510647445 ...                 -- 261.05966555029215\n",
       "    0    61.0 126.23335664597955 ...                 --   96.2564899351557\n",
       "  ...     ...                ... ...                ...                ...\n",
       "    0   104.0  125.9981152570383 ...                 --  659.3831839822292\n",
       "    0   101.0      305.090152718 ...                 --  551.8486856895487\n",
       "    0    51.0  59.08017639571553 ...                 -- 263.64311630195783\n",
       "    0     2.0 202.24990657200001 ...                 --  2758.443476692151\n",
       "    0    31.0  82.62056195471949 ... 151.33527221430663 60.219319043901216\n",
       "    0    22.0      200.475096996 ...                 -- 100.26936267632158\n",
       "    0    55.0  162.8366365865646 ...                 --  169.7209118175456\n",
       "    0   102.0 41.868930852041224 ...                 -- 241.56248075314053\n",
       "    0    52.0 133.22449072443942 ...                 -- 393.87788490495933\n",
       "    0    46.0  25.37206534435893 ...                 --  6.258638940266082"
      ]
     },
     "execution_count": 58,
     "metadata": {},
     "output_type": "execute_result"
    }
   ],
   "source": [
    "sched"
   ]
  },
  {
   "cell_type": "code",
   "execution_count": 78,
   "metadata": {},
   "outputs": [
    {
     "data": {
      "text/plain": [
       "216.0"
      ]
     },
     "execution_count": 78,
     "metadata": {},
     "output_type": "execute_result"
    }
   ],
   "source": [
    "1*(3*9*3600/(450*1))"
   ]
  },
  {
   "cell_type": "code",
   "execution_count": 56,
   "metadata": {},
   "outputs": [
    {
     "data": {
      "text/plain": [
       "0.9726890629795546"
      ]
     },
     "execution_count": 56,
     "metadata": {},
     "output_type": "execute_result"
    }
   ],
   "source": [
    "2.5*np.log10(6)/2"
   ]
  },
  {
   "cell_type": "code",
   "execution_count": null,
   "metadata": {},
   "outputs": [],
   "source": []
  }
 ],
 "metadata": {
  "kernelspec": {
   "display_name": "Python 3",
   "language": "python",
   "name": "python3"
  },
  "language_info": {
   "codemirror_mode": {
    "name": "ipython",
    "version": 3
   },
   "file_extension": ".py",
   "mimetype": "text/x-python",
   "name": "python",
   "nbconvert_exporter": "python",
   "pygments_lexer": "ipython3",
   "version": "3.8.5"
  }
 },
 "nbformat": 4,
 "nbformat_minor": 4
}
